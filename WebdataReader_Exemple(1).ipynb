{
 "cells": [
  {
   "cell_type": "code",
   "execution_count": 1,
   "metadata": {
    "colab": {
     "base_uri": "https://localhost:8080/"
    },
    "executionInfo": {
     "elapsed": 4989,
     "status": "ok",
     "timestamp": 1638002035741,
     "user": {
      "displayName": "Yacine ASLIMI",
      "photoUrl": "https://lh3.googleusercontent.com/a/default-user=s64",
      "userId": "17203730376393528118"
     },
     "user_tz": -60
    },
    "id": "lakMatxoLnFJ",
    "outputId": "29a3eadf-2151-4ad2-8d99-d1af68b8e6f9"
   },
   "outputs": [
    {
     "name": "stdout",
     "output_type": "stream",
     "text": [
      "Requirement already satisfied: pandas_datareader in /usr/local/lib/python3.7/dist-packages (0.9.0)\n",
      "Collecting pandas_datareader\n",
      "  Downloading pandas_datareader-0.10.0-py3-none-any.whl (109 kB)\n",
      "\u001b[K     |████████████████████████████████| 109 kB 4.2 MB/s \n",
      "\u001b[?25hRequirement already satisfied: lxml in /usr/local/lib/python3.7/dist-packages (from pandas_datareader) (4.2.6)\n",
      "Requirement already satisfied: pandas>=0.23 in /usr/local/lib/python3.7/dist-packages (from pandas_datareader) (1.1.5)\n",
      "Requirement already satisfied: requests>=2.19.0 in /usr/local/lib/python3.7/dist-packages (from pandas_datareader) (2.23.0)\n",
      "Requirement already satisfied: pytz>=2017.2 in /usr/local/lib/python3.7/dist-packages (from pandas>=0.23->pandas_datareader) (2018.9)\n",
      "Requirement already satisfied: python-dateutil>=2.7.3 in /usr/local/lib/python3.7/dist-packages (from pandas>=0.23->pandas_datareader) (2.8.2)\n",
      "Requirement already satisfied: numpy>=1.15.4 in /usr/local/lib/python3.7/dist-packages (from pandas>=0.23->pandas_datareader) (1.19.5)\n",
      "Requirement already satisfied: six>=1.5 in /usr/local/lib/python3.7/dist-packages (from python-dateutil>=2.7.3->pandas>=0.23->pandas_datareader) (1.15.0)\n",
      "Requirement already satisfied: chardet<4,>=3.0.2 in /usr/local/lib/python3.7/dist-packages (from requests>=2.19.0->pandas_datareader) (3.0.4)\n",
      "Requirement already satisfied: certifi>=2017.4.17 in /usr/local/lib/python3.7/dist-packages (from requests>=2.19.0->pandas_datareader) (2021.10.8)\n",
      "Requirement already satisfied: idna<3,>=2.5 in /usr/local/lib/python3.7/dist-packages (from requests>=2.19.0->pandas_datareader) (2.10)\n",
      "Requirement already satisfied: urllib3!=1.25.0,!=1.25.1,<1.26,>=1.21.1 in /usr/local/lib/python3.7/dist-packages (from requests>=2.19.0->pandas_datareader) (1.24.3)\n",
      "Installing collected packages: pandas-datareader\n",
      "  Attempting uninstall: pandas-datareader\n",
      "    Found existing installation: pandas-datareader 0.9.0\n",
      "    Uninstalling pandas-datareader-0.9.0:\n",
      "      Successfully uninstalled pandas-datareader-0.9.0\n",
      "Successfully installed pandas-datareader-0.10.0\n"
     ]
    }
   ],
   "source": [
    "#### Data reader\n",
    "\n",
    "! pip install pandas_datareader --upgrade"
   ]
  },
  {
   "cell_type": "code",
   "execution_count": 2,
   "metadata": {
    "executionInfo": {
     "elapsed": 449,
     "status": "ok",
     "timestamp": 1638002077193,
     "user": {
      "displayName": "Yacine ASLIMI",
      "photoUrl": "https://lh3.googleusercontent.com/a/default-user=s64",
      "userId": "17203730376393528118"
     },
     "user_tz": -60
    },
    "id": "nblIws5VLpNU"
   },
   "outputs": [],
   "source": [
    "import pandas as pd\n",
    "import pandas_datareader.data as web\n",
    "import numpy as np\n",
    "import matplotlib.pyplot as plt\n",
    "\n",
    "%matplotlib inline"
   ]
  },
  {
   "cell_type": "code",
   "execution_count": 3,
   "metadata": {
    "colab": {
     "base_uri": "https://localhost:8080/",
     "height": 455
    },
    "executionInfo": {
     "elapsed": 1601,
     "status": "ok",
     "timestamp": 1638002144416,
     "user": {
      "displayName": "Yacine ASLIMI",
      "photoUrl": "https://lh3.googleusercontent.com/a/default-user=s64",
      "userId": "17203730376393528118"
     },
     "user_tz": -60
    },
    "id": "3_UcgyFLLv9Z",
    "outputId": "e6cba424-f61a-4093-bbaf-7decde0eb81d"
   },
   "outputs": [
    {
     "data": {
      "text/html": [
       "<div>\n",
       "<style scoped>\n",
       "    .dataframe tbody tr th:only-of-type {\n",
       "        vertical-align: middle;\n",
       "    }\n",
       "\n",
       "    .dataframe tbody tr th {\n",
       "        vertical-align: top;\n",
       "    }\n",
       "\n",
       "    .dataframe thead th {\n",
       "        text-align: right;\n",
       "    }\n",
       "</style>\n",
       "<table border=\"1\" class=\"dataframe\">\n",
       "  <thead>\n",
       "    <tr style=\"text-align: right;\">\n",
       "      <th></th>\n",
       "      <th>High</th>\n",
       "      <th>Low</th>\n",
       "      <th>Open</th>\n",
       "      <th>Close</th>\n",
       "      <th>Volume</th>\n",
       "      <th>Adj Close</th>\n",
       "    </tr>\n",
       "    <tr>\n",
       "      <th>Date</th>\n",
       "      <th></th>\n",
       "      <th></th>\n",
       "      <th></th>\n",
       "      <th></th>\n",
       "      <th></th>\n",
       "      <th></th>\n",
       "    </tr>\n",
       "  </thead>\n",
       "  <tbody>\n",
       "    <tr>\n",
       "      <th>2013-04-04</th>\n",
       "      <td>105.889999</td>\n",
       "      <td>104.820000</td>\n",
       "      <td>105.239998</td>\n",
       "      <td>105.629997</td>\n",
       "      <td>1709400.0</td>\n",
       "      <td>95.602814</td>\n",
       "    </tr>\n",
       "    <tr>\n",
       "      <th>2013-04-05</th>\n",
       "      <td>106.720001</td>\n",
       "      <td>104.959999</td>\n",
       "      <td>105.279999</td>\n",
       "      <td>106.500000</td>\n",
       "      <td>1578300.0</td>\n",
       "      <td>96.390236</td>\n",
       "    </tr>\n",
       "    <tr>\n",
       "      <th>2013-04-08</th>\n",
       "      <td>108.739998</td>\n",
       "      <td>107.169998</td>\n",
       "      <td>107.500000</td>\n",
       "      <td>108.709999</td>\n",
       "      <td>1075600.0</td>\n",
       "      <td>98.390442</td>\n",
       "    </tr>\n",
       "    <tr>\n",
       "      <th>2013-04-09</th>\n",
       "      <td>107.949997</td>\n",
       "      <td>106.839996</td>\n",
       "      <td>107.150002</td>\n",
       "      <td>107.519997</td>\n",
       "      <td>686500.0</td>\n",
       "      <td>97.313400</td>\n",
       "    </tr>\n",
       "    <tr>\n",
       "      <th>2013-04-10</th>\n",
       "      <td>108.980003</td>\n",
       "      <td>108.389999</td>\n",
       "      <td>108.650002</td>\n",
       "      <td>108.779999</td>\n",
       "      <td>592600.0</td>\n",
       "      <td>98.453796</td>\n",
       "    </tr>\n",
       "    <tr>\n",
       "      <th>...</th>\n",
       "      <td>...</td>\n",
       "      <td>...</td>\n",
       "      <td>...</td>\n",
       "      <td>...</td>\n",
       "      <td>...</td>\n",
       "      <td>...</td>\n",
       "    </tr>\n",
       "    <tr>\n",
       "      <th>2021-11-15</th>\n",
       "      <td>185.460007</td>\n",
       "      <td>184.339996</td>\n",
       "      <td>185.020004</td>\n",
       "      <td>184.389999</td>\n",
       "      <td>177100.0</td>\n",
       "      <td>184.389999</td>\n",
       "    </tr>\n",
       "    <tr>\n",
       "      <th>2021-11-16</th>\n",
       "      <td>188.179993</td>\n",
       "      <td>186.899994</td>\n",
       "      <td>187.000000</td>\n",
       "      <td>187.429993</td>\n",
       "      <td>228700.0</td>\n",
       "      <td>187.429993</td>\n",
       "    </tr>\n",
       "    <tr>\n",
       "      <th>2021-11-17</th>\n",
       "      <td>186.539993</td>\n",
       "      <td>184.729996</td>\n",
       "      <td>186.000000</td>\n",
       "      <td>186.210007</td>\n",
       "      <td>204200.0</td>\n",
       "      <td>186.210007</td>\n",
       "    </tr>\n",
       "    <tr>\n",
       "      <th>2021-11-18</th>\n",
       "      <td>186.149994</td>\n",
       "      <td>183.860001</td>\n",
       "      <td>186.149994</td>\n",
       "      <td>184.649994</td>\n",
       "      <td>271700.0</td>\n",
       "      <td>184.649994</td>\n",
       "    </tr>\n",
       "    <tr>\n",
       "      <th>2021-11-19</th>\n",
       "      <td>186.300003</td>\n",
       "      <td>185.259995</td>\n",
       "      <td>185.360001</td>\n",
       "      <td>185.960007</td>\n",
       "      <td>197400.0</td>\n",
       "      <td>185.960007</td>\n",
       "    </tr>\n",
       "  </tbody>\n",
       "</table>\n",
       "<p>2176 rows × 6 columns</p>\n",
       "</div>"
      ],
      "text/plain": [
       "                  High         Low  ...     Volume   Adj Close\n",
       "Date                                ...                       \n",
       "2013-04-04  105.889999  104.820000  ...  1709400.0   95.602814\n",
       "2013-04-05  106.720001  104.959999  ...  1578300.0   96.390236\n",
       "2013-04-08  108.739998  107.169998  ...  1075600.0   98.390442\n",
       "2013-04-09  107.949997  106.839996  ...   686500.0   97.313400\n",
       "2013-04-10  108.980003  108.389999  ...   592600.0   98.453796\n",
       "...                ...         ...  ...        ...         ...\n",
       "2021-11-15  185.460007  184.339996  ...   177100.0  184.389999\n",
       "2021-11-16  188.179993  186.899994  ...   228700.0  187.429993\n",
       "2021-11-17  186.539993  184.729996  ...   204200.0  186.210007\n",
       "2021-11-18  186.149994  183.860001  ...   271700.0  184.649994\n",
       "2021-11-19  186.300003  185.259995  ...   197400.0  185.960007\n",
       "\n",
       "[2176 rows x 6 columns]"
      ]
     },
     "execution_count": 3,
     "metadata": {},
     "output_type": "execute_result"
    }
   ],
   "source": [
    "#### Création d'un data frame avec les valeur de l'action Ford de 2012 à 2019\n",
    "toyota = web.DataReader('TM', data_source = \"yahoo\", start = \"2013-04-04\", end = \"2021-11-19\" )\n",
    "toyota"
   ]
  },
  {
   "cell_type": "code",
   "execution_count": 4,
   "metadata": {
    "colab": {
     "base_uri": "https://localhost:8080/",
     "height": 287
    },
    "executionInfo": {
     "elapsed": 509,
     "status": "ok",
     "timestamp": 1638002157086,
     "user": {
      "displayName": "Yacine ASLIMI",
      "photoUrl": "https://lh3.googleusercontent.com/a/default-user=s64",
      "userId": "17203730376393528118"
     },
     "user_tz": -60
    },
    "id": "Hbt8OEDKLzwj",
    "outputId": "3b1af717-b6fb-4d70-9db7-92f50c9f8bbf"
   },
   "outputs": [
    {
     "data": {
      "text/plain": [
       "<matplotlib.axes._subplots.AxesSubplot at 0x7f0be7bc3b10>"
      ]
     },
     "execution_count": 4,
     "metadata": {},
     "output_type": "execute_result"
    },
    {
     "data": {
      "image/png": "[encoded data removed]",
      "text/plain": [
       "<Figure size 432x288 with 1 Axes>"
      ]
     },
     "metadata": {
      "needs_background": "light"
     },
     "output_type": "display_data"
    }
   ],
   "source": [
    "toyota[\"Close\"].plot()"
   ]
  },
  {
   "cell_type": "code",
   "execution_count": 8,
   "metadata": {
    "colab": {
     "base_uri": "https://localhost:8080/"
    },
    "executionInfo": {
     "elapsed": 358,
     "status": "ok",
     "timestamp": 1638002378309,
     "user": {
      "displayName": "Yacine ASLIMI",
      "photoUrl": "https://lh3.googleusercontent.com/a/default-user=s64",
      "userId": "17203730376393528118"
     },
     "user_tz": -60
    },
    "id": "vx-MFOoHjAgk",
    "outputId": "ad35c14a-5f1f-48e2-a503-14d79747dcdc"
   },
   "outputs": [
    {
     "name": "stdout",
     "output_type": "stream",
     "text": [
      "Object `strftime` not found.\n"
     ]
    }
   ],
   "source": [
    "datetime.now().strftime?"
   ]
  },
  {
   "cell_type": "code",
   "execution_count": 13,
   "metadata": {
    "colab": {
     "base_uri": "https://localhost:8080/",
     "height": 35
    },
    "executionInfo": {
     "elapsed": 592,
     "status": "ok",
     "timestamp": 1638002514858,
     "user": {
      "displayName": "Yacine ASLIMI",
      "photoUrl": "https://lh3.googleusercontent.com/a/default-user=s64",
      "userId": "17203730376393528118"
     },
     "user_tz": -60
    },
    "id": "YgrHOSvT21K9",
    "outputId": "be483272-4e10-4649-fe86-819c9181164d"
   },
   "outputs": [
    {
     "data": {
      "application/vnd.google.colaboratory.intrinsic+json": {
       "type": "string"
      },
      "text/plain": [
       "'2021-11-27'"
      ]
     },
     "execution_count": 13,
     "metadata": {},
     "output_type": "execute_result"
    }
   ],
   "source": [
    "from datetime import datetime\n",
    "\n",
    "now = datetime.now() #### Now --> Avoir la date à laquelle le code a été exécuté\n",
    "#now\n",
    "date_time = now.strftime(\"%Y-%m-%d\") ###\n",
    "date_time"
   ]
  },
  {
   "cell_type": "code",
   "execution_count": 15,
   "metadata": {
    "colab": {
     "base_uri": "https://localhost:8080/",
     "height": 455
    },
    "executionInfo": {
     "elapsed": 1809,
     "status": "ok",
     "timestamp": 1638002603153,
     "user": {
      "displayName": "Yacine ASLIMI",
      "photoUrl": "https://lh3.googleusercontent.com/a/default-user=s64",
      "userId": "17203730376393528118"
     },
     "user_tz": -60
    },
    "id": "eAVXKl-_jwQ_",
    "outputId": "be296f50-2cb0-4251-e1cf-147a0ff3b500"
   },
   "outputs": [
    {
     "data": {
      "text/html": [
       "<div>\n",
       "<style scoped>\n",
       "    .dataframe tbody tr th:only-of-type {\n",
       "        vertical-align: middle;\n",
       "    }\n",
       "\n",
       "    .dataframe tbody tr th {\n",
       "        vertical-align: top;\n",
       "    }\n",
       "\n",
       "    .dataframe thead th {\n",
       "        text-align: right;\n",
       "    }\n",
       "</style>\n",
       "<table border=\"1\" class=\"dataframe\">\n",
       "  <thead>\n",
       "    <tr style=\"text-align: right;\">\n",
       "      <th></th>\n",
       "      <th>High</th>\n",
       "      <th>Low</th>\n",
       "      <th>Open</th>\n",
       "      <th>Close</th>\n",
       "      <th>Volume</th>\n",
       "      <th>Adj Close</th>\n",
       "    </tr>\n",
       "    <tr>\n",
       "      <th>Date</th>\n",
       "      <th></th>\n",
       "      <th></th>\n",
       "      <th></th>\n",
       "      <th></th>\n",
       "      <th></th>\n",
       "      <th></th>\n",
       "    </tr>\n",
       "  </thead>\n",
       "  <tbody>\n",
       "    <tr>\n",
       "      <th>2013-11-07</th>\n",
       "      <td>50.090000</td>\n",
       "      <td>44.000000</td>\n",
       "      <td>45.099998</td>\n",
       "      <td>44.900002</td>\n",
       "      <td>117701600</td>\n",
       "      <td>44.900002</td>\n",
       "    </tr>\n",
       "    <tr>\n",
       "      <th>2013-11-08</th>\n",
       "      <td>46.939999</td>\n",
       "      <td>40.689999</td>\n",
       "      <td>45.930000</td>\n",
       "      <td>41.650002</td>\n",
       "      <td>27925300</td>\n",
       "      <td>41.650002</td>\n",
       "    </tr>\n",
       "    <tr>\n",
       "      <th>2013-11-11</th>\n",
       "      <td>43.000000</td>\n",
       "      <td>39.400002</td>\n",
       "      <td>40.500000</td>\n",
       "      <td>42.900002</td>\n",
       "      <td>16113900</td>\n",
       "      <td>42.900002</td>\n",
       "    </tr>\n",
       "    <tr>\n",
       "      <th>2013-11-12</th>\n",
       "      <td>43.779999</td>\n",
       "      <td>41.830002</td>\n",
       "      <td>43.660000</td>\n",
       "      <td>41.900002</td>\n",
       "      <td>6316700</td>\n",
       "      <td>41.900002</td>\n",
       "    </tr>\n",
       "    <tr>\n",
       "      <th>2013-11-13</th>\n",
       "      <td>42.869999</td>\n",
       "      <td>40.759998</td>\n",
       "      <td>41.029999</td>\n",
       "      <td>42.599998</td>\n",
       "      <td>8688300</td>\n",
       "      <td>42.599998</td>\n",
       "    </tr>\n",
       "    <tr>\n",
       "      <th>...</th>\n",
       "      <td>...</td>\n",
       "      <td>...</td>\n",
       "      <td>...</td>\n",
       "      <td>...</td>\n",
       "      <td>...</td>\n",
       "      <td>...</td>\n",
       "    </tr>\n",
       "    <tr>\n",
       "      <th>2021-11-19</th>\n",
       "      <td>50.369999</td>\n",
       "      <td>48.400002</td>\n",
       "      <td>49.119999</td>\n",
       "      <td>48.400002</td>\n",
       "      <td>26147800</td>\n",
       "      <td>48.400002</td>\n",
       "    </tr>\n",
       "    <tr>\n",
       "      <th>2021-11-22</th>\n",
       "      <td>48.549999</td>\n",
       "      <td>46.520000</td>\n",
       "      <td>48.509998</td>\n",
       "      <td>47.310001</td>\n",
       "      <td>26620100</td>\n",
       "      <td>47.310001</td>\n",
       "    </tr>\n",
       "    <tr>\n",
       "      <th>2021-11-23</th>\n",
       "      <td>47.459999</td>\n",
       "      <td>45.980000</td>\n",
       "      <td>47.200001</td>\n",
       "      <td>47.139999</td>\n",
       "      <td>19663700</td>\n",
       "      <td>47.139999</td>\n",
       "    </tr>\n",
       "    <tr>\n",
       "      <th>2021-11-24</th>\n",
       "      <td>47.639999</td>\n",
       "      <td>46.160000</td>\n",
       "      <td>46.660000</td>\n",
       "      <td>47.520000</td>\n",
       "      <td>9979500</td>\n",
       "      <td>47.520000</td>\n",
       "    </tr>\n",
       "    <tr>\n",
       "      <th>2021-11-26</th>\n",
       "      <td>47.349998</td>\n",
       "      <td>46.230000</td>\n",
       "      <td>46.639999</td>\n",
       "      <td>47.070000</td>\n",
       "      <td>7861300</td>\n",
       "      <td>47.070000</td>\n",
       "    </tr>\n",
       "  </tbody>\n",
       "</table>\n",
       "<p>2028 rows × 6 columns</p>\n",
       "</div>"
      ],
      "text/plain": [
       "                 High        Low       Open      Close     Volume  Adj Close\n",
       "Date                                                                        \n",
       "2013-11-07  50.090000  44.000000  45.099998  44.900002  117701600  44.900002\n",
       "2013-11-08  46.939999  40.689999  45.930000  41.650002   27925300  41.650002\n",
       "2013-11-11  43.000000  39.400002  40.500000  42.900002   16113900  42.900002\n",
       "2013-11-12  43.779999  41.830002  43.660000  41.900002    6316700  41.900002\n",
       "2013-11-13  42.869999  40.759998  41.029999  42.599998    8688300  42.599998\n",
       "...               ...        ...        ...        ...        ...        ...\n",
       "2021-11-19  50.369999  48.400002  49.119999  48.400002   26147800  48.400002\n",
       "2021-11-22  48.549999  46.520000  48.509998  47.310001   26620100  47.310001\n",
       "2021-11-23  47.459999  45.980000  47.200001  47.139999   19663700  47.139999\n",
       "2021-11-24  47.639999  46.160000  46.660000  47.520000    9979500  47.520000\n",
       "2021-11-26  47.349998  46.230000  46.639999  47.070000    7861300  47.070000\n",
       "\n",
       "[2028 rows x 6 columns]"
      ]
     },
     "execution_count": 15,
     "metadata": {},
     "output_type": "execute_result"
    }
   ],
   "source": [
    "#### On appelle l'objet datetime dans webdatareader:\n",
    "\n",
    "\n",
    "#### Création d'un data frame avec les valeur de l'action Ford de 2012 à 2019\n",
    "twitter = web.DataReader('TWTR', data_source = \"yahoo\", start = \"2013-04-04\", end = date_time)\n",
    "twitter"
   ]
  },
  {
   "cell_type": "code",
   "execution_count": 16,
   "metadata": {
    "colab": {
     "base_uri": "https://localhost:8080/",
     "height": 289
    },
    "executionInfo": {
     "elapsed": 480,
     "status": "ok",
     "timestamp": 1638002603600,
     "user": {
      "displayName": "Yacine ASLIMI",
      "photoUrl": "https://lh3.googleusercontent.com/a/default-user=s64",
      "userId": "17203730376393528118"
     },
     "user_tz": -60
    },
    "id": "JhGi7DcUj-F8",
    "outputId": "8f12d023-7002-4189-aef2-5a0725a6bf55"
   },
   "outputs": [
    {
     "data": {
      "text/plain": [
       "<matplotlib.axes._subplots.AxesSubplot at 0x7f0bdbae3750>"
      ]
     },
     "execution_count": 16,
     "metadata": {},
     "output_type": "execute_result"
    },
    {
     "data": {
      "image/png": "[encoded data removed]",
      "text/plain": [
       "<Figure size 432x288 with 1 Axes>"
      ]
     },
     "metadata": {
      "needs_background": "light"
     },
     "output_type": "display_data"
    }
   ],
   "source": [
    "twitter[\"Close\"].plot()"
   ]
  },
  {
   "cell_type": "code",
   "execution_count": null,
   "metadata": {
    "id": "2yw8VQbf31FO"
   },
   "outputs": [],
   "source": [
    "# date_time = now.strftime(\"%Y-%m-%d\")\n",
    "# print(\"date and time:\",date_time)\t"
   ]
  },
  {
   "cell_type": "markdown",
   "metadata": {
    "id": "WOFSSqBykQRK"
   },
   "source": [
    "#### Exercice: Créer un graphique permettant d'étudier 5 valeurs du secteur automobile depuis depuis"
   ]
  },
  {
   "cell_type": "code",
   "execution_count": 17,
   "metadata": {
    "executionInfo": {
     "elapsed": 7066,
     "status": "ok",
     "timestamp": 1638002862530,
     "user": {
      "displayName": "Yacine ASLIMI",
      "photoUrl": "https://lh3.googleusercontent.com/a/default-user=s64",
      "userId": "17203730376393528118"
     },
     "user_tz": -60
    },
    "id": "eTd-B9gfGmdm"
   },
   "outputs": [],
   "source": [
    "##### Récupération de donnée\n",
    "\n",
    "toyota = web.DataReader('TM', data_source = \"yahoo\", start = \"2013-04-04\", end = date_time)\n",
    "renault = web.DataReader('RNO.PA', data_source = \"yahoo\", start = \"2013-04-04\", end = date_time)\n",
    "gm = web.DataReader('GM', data_source = \"yahoo\", start = \"2013-04-04\", end =  date_time)\n",
    "stell = web.DataReader('STLA', data_source = \"yahoo\", start = \"2013-04-04\", end = date_time )\n",
    "ford = web.DataReader('F', data_source = \"yahoo\", start = \"2013-04-04\", end = date_time)"
   ]
  },
  {
   "cell_type": "code",
   "execution_count": 18,
   "metadata": {
    "colab": {
     "base_uri": "https://localhost:8080/"
    },
    "executionInfo": {
     "elapsed": 31,
     "status": "ok",
     "timestamp": 1638002921039,
     "user": {
      "displayName": "Yacine ASLIMI",
      "photoUrl": "https://lh3.googleusercontent.com/a/default-user=s64",
      "userId": "17203730376393528118"
     },
     "user_tz": -60
    },
    "id": "BriJeRy03DiX",
    "outputId": "df824449-6499-4f8e-ca76-eaebffb7ca7d"
   },
   "outputs": [
    {
     "name": "stdout",
     "output_type": "stream",
     "text": [
      "(2180, 6) (2215, 6) (2180, 6) (2180, 6) (2180, 6)\n"
     ]
    }
   ],
   "source": [
    "print(toyota.shape, renault.shape, gm.shape, stell.shape, ford.shape)"
   ]
  },
  {
   "cell_type": "code",
   "execution_count": 23,
   "metadata": {
    "colab": {
     "base_uri": "https://localhost:8080/",
     "height": 455
    },
    "executionInfo": {
     "elapsed": 374,
     "status": "ok",
     "timestamp": 1638003381294,
     "user": {
      "displayName": "Yacine ASLIMI",
      "photoUrl": "https://lh3.googleusercontent.com/a/default-user=s64",
      "userId": "17203730376393528118"
     },
     "user_tz": -60
    },
    "id": "xkox-HW1leR4",
    "outputId": "acdc7946-e711-4c17-d25f-e3e4eb753dab"
   },
   "outputs": [
    {
     "data": {
      "text/html": [
       "<div>\n",
       "<style scoped>\n",
       "    .dataframe tbody tr th:only-of-type {\n",
       "        vertical-align: middle;\n",
       "    }\n",
       "\n",
       "    .dataframe tbody tr th {\n",
       "        vertical-align: top;\n",
       "    }\n",
       "\n",
       "    .dataframe thead th {\n",
       "        text-align: right;\n",
       "    }\n",
       "</style>\n",
       "<table border=\"1\" class=\"dataframe\">\n",
       "  <thead>\n",
       "    <tr style=\"text-align: right;\">\n",
       "      <th></th>\n",
       "      <th>High_x</th>\n",
       "      <th>Low_x</th>\n",
       "      <th>Open_x</th>\n",
       "      <th>Close_x</th>\n",
       "      <th>Volume_x</th>\n",
       "      <th>Adj Close_x</th>\n",
       "      <th>High_y</th>\n",
       "      <th>Low_y</th>\n",
       "      <th>Open_y</th>\n",
       "      <th>Close_y</th>\n",
       "      <th>Volume_y</th>\n",
       "      <th>Adj Close_y</th>\n",
       "    </tr>\n",
       "    <tr>\n",
       "      <th>Date</th>\n",
       "      <th></th>\n",
       "      <th></th>\n",
       "      <th></th>\n",
       "      <th></th>\n",
       "      <th></th>\n",
       "      <th></th>\n",
       "      <th></th>\n",
       "      <th></th>\n",
       "      <th></th>\n",
       "      <th></th>\n",
       "      <th></th>\n",
       "      <th></th>\n",
       "    </tr>\n",
       "  </thead>\n",
       "  <tbody>\n",
       "    <tr>\n",
       "      <th>2013-04-04</th>\n",
       "      <td>105.889999</td>\n",
       "      <td>104.820000</td>\n",
       "      <td>105.239998</td>\n",
       "      <td>105.629997</td>\n",
       "      <td>1709400.0</td>\n",
       "      <td>95.602814</td>\n",
       "      <td>51.049999</td>\n",
       "      <td>49.450001</td>\n",
       "      <td>49.720001</td>\n",
       "      <td>50.380001</td>\n",
       "      <td>2156749.0</td>\n",
       "      <td>36.740303</td>\n",
       "    </tr>\n",
       "    <tr>\n",
       "      <th>2013-04-05</th>\n",
       "      <td>106.720001</td>\n",
       "      <td>104.959999</td>\n",
       "      <td>105.279999</td>\n",
       "      <td>106.500000</td>\n",
       "      <td>1578300.0</td>\n",
       "      <td>96.390236</td>\n",
       "      <td>51.509998</td>\n",
       "      <td>48.785000</td>\n",
       "      <td>50.990002</td>\n",
       "      <td>49.599998</td>\n",
       "      <td>1793369.0</td>\n",
       "      <td>36.171474</td>\n",
       "    </tr>\n",
       "    <tr>\n",
       "      <th>2013-04-08</th>\n",
       "      <td>108.739998</td>\n",
       "      <td>107.169998</td>\n",
       "      <td>107.500000</td>\n",
       "      <td>108.709999</td>\n",
       "      <td>1075600.0</td>\n",
       "      <td>98.390434</td>\n",
       "      <td>49.860001</td>\n",
       "      <td>48.110001</td>\n",
       "      <td>49.759998</td>\n",
       "      <td>48.349998</td>\n",
       "      <td>1205926.0</td>\n",
       "      <td>35.259892</td>\n",
       "    </tr>\n",
       "    <tr>\n",
       "      <th>2013-04-09</th>\n",
       "      <td>107.949997</td>\n",
       "      <td>106.839996</td>\n",
       "      <td>107.150002</td>\n",
       "      <td>107.519997</td>\n",
       "      <td>686500.0</td>\n",
       "      <td>97.313400</td>\n",
       "      <td>49.064999</td>\n",
       "      <td>48.060001</td>\n",
       "      <td>48.744999</td>\n",
       "      <td>48.630001</td>\n",
       "      <td>1087983.0</td>\n",
       "      <td>35.464092</td>\n",
       "    </tr>\n",
       "    <tr>\n",
       "      <th>2013-04-10</th>\n",
       "      <td>108.980003</td>\n",
       "      <td>108.389999</td>\n",
       "      <td>108.650002</td>\n",
       "      <td>108.779999</td>\n",
       "      <td>592600.0</td>\n",
       "      <td>98.453796</td>\n",
       "      <td>49.195000</td>\n",
       "      <td>48.105000</td>\n",
       "      <td>48.105000</td>\n",
       "      <td>49.060001</td>\n",
       "      <td>1533540.0</td>\n",
       "      <td>35.777672</td>\n",
       "    </tr>\n",
       "    <tr>\n",
       "      <th>...</th>\n",
       "      <td>...</td>\n",
       "      <td>...</td>\n",
       "      <td>...</td>\n",
       "      <td>...</td>\n",
       "      <td>...</td>\n",
       "      <td>...</td>\n",
       "      <td>...</td>\n",
       "      <td>...</td>\n",
       "      <td>...</td>\n",
       "      <td>...</td>\n",
       "      <td>...</td>\n",
       "      <td>...</td>\n",
       "    </tr>\n",
       "    <tr>\n",
       "      <th>2021-11-19</th>\n",
       "      <td>186.300003</td>\n",
       "      <td>185.259995</td>\n",
       "      <td>185.360001</td>\n",
       "      <td>185.960007</td>\n",
       "      <td>197400.0</td>\n",
       "      <td>185.960007</td>\n",
       "      <td>34.445000</td>\n",
       "      <td>32.290001</td>\n",
       "      <td>34.400002</td>\n",
       "      <td>32.930000</td>\n",
       "      <td>2779770.0</td>\n",
       "      <td>32.930000</td>\n",
       "    </tr>\n",
       "    <tr>\n",
       "      <th>2021-11-22</th>\n",
       "      <td>186.440002</td>\n",
       "      <td>184.559998</td>\n",
       "      <td>186.119995</td>\n",
       "      <td>185.089996</td>\n",
       "      <td>264200.0</td>\n",
       "      <td>185.089996</td>\n",
       "      <td>33.320000</td>\n",
       "      <td>32.625000</td>\n",
       "      <td>32.880001</td>\n",
       "      <td>33.195000</td>\n",
       "      <td>1011201.0</td>\n",
       "      <td>33.195000</td>\n",
       "    </tr>\n",
       "    <tr>\n",
       "      <th>2021-11-23</th>\n",
       "      <td>185.580002</td>\n",
       "      <td>184.179993</td>\n",
       "      <td>185.089996</td>\n",
       "      <td>185.059998</td>\n",
       "      <td>182700.0</td>\n",
       "      <td>185.059998</td>\n",
       "      <td>33.224998</td>\n",
       "      <td>32.349998</td>\n",
       "      <td>32.919998</td>\n",
       "      <td>32.610001</td>\n",
       "      <td>1123403.0</td>\n",
       "      <td>32.610001</td>\n",
       "    </tr>\n",
       "    <tr>\n",
       "      <th>2021-11-24</th>\n",
       "      <td>185.119995</td>\n",
       "      <td>183.509995</td>\n",
       "      <td>184.899994</td>\n",
       "      <td>184.809998</td>\n",
       "      <td>255500.0</td>\n",
       "      <td>184.809998</td>\n",
       "      <td>33.255001</td>\n",
       "      <td>31.910000</td>\n",
       "      <td>32.790001</td>\n",
       "      <td>32.105000</td>\n",
       "      <td>1519096.0</td>\n",
       "      <td>32.105000</td>\n",
       "    </tr>\n",
       "    <tr>\n",
       "      <th>2021-11-26</th>\n",
       "      <td>181.149994</td>\n",
       "      <td>178.789993</td>\n",
       "      <td>180.740005</td>\n",
       "      <td>179.830002</td>\n",
       "      <td>171400.0</td>\n",
       "      <td>179.830002</td>\n",
       "      <td>30.815001</td>\n",
       "      <td>29.500000</td>\n",
       "      <td>30.500000</td>\n",
       "      <td>29.610001</td>\n",
       "      <td>2810856.0</td>\n",
       "      <td>29.610001</td>\n",
       "    </tr>\n",
       "  </tbody>\n",
       "</table>\n",
       "<p>2180 rows × 12 columns</p>\n",
       "</div>"
      ],
      "text/plain": [
       "                High_x       Low_x  ...   Volume_y  Adj Close_y\n",
       "Date                                ...                        \n",
       "2013-04-04  105.889999  104.820000  ...  2156749.0    36.740303\n",
       "2013-04-05  106.720001  104.959999  ...  1793369.0    36.171474\n",
       "2013-04-08  108.739998  107.169998  ...  1205926.0    35.259892\n",
       "2013-04-09  107.949997  106.839996  ...  1087983.0    35.464092\n",
       "2013-04-10  108.980003  108.389999  ...  1533540.0    35.777672\n",
       "...                ...         ...  ...        ...          ...\n",
       "2021-11-19  186.300003  185.259995  ...  2779770.0    32.930000\n",
       "2021-11-22  186.440002  184.559998  ...  1011201.0    33.195000\n",
       "2021-11-23  185.580002  184.179993  ...  1123403.0    32.610001\n",
       "2021-11-24  185.119995  183.509995  ...  1519096.0    32.105000\n",
       "2021-11-26  181.149994  178.789993  ...  2810856.0    29.610001\n",
       "\n",
       "[2180 rows x 12 columns]"
      ]
     },
     "execution_count": 23,
     "metadata": {},
     "output_type": "execute_result"
    }
   ],
   "source": [
    "##### Avoir le meme nombre de valeurs dans tout les dataset\n",
    "\n",
    "toy_ren_join = toyota.merge(renault, how='left', on='Date') \n",
    "toy_ren_join"
   ]
  },
  {
   "cell_type": "markdown",
   "metadata": {
    "id": "FAl9vJmunHO1"
   },
   "source": [
    ""
   ]
  },
  {
   "cell_type": "code",
   "execution_count": 24,
   "metadata": {
    "colab": {
     "base_uri": "https://localhost:8080/",
     "height": 237
    },
    "executionInfo": {
     "elapsed": 19,
     "status": "ok",
     "timestamp": 1638003381668,
     "user": {
      "displayName": "Yacine ASLIMI",
      "photoUrl": "https://lh3.googleusercontent.com/a/default-user=s64",
      "userId": "17203730376393528118"
     },
     "user_tz": -60
    },
    "id": "MA-roasJm-PE",
    "outputId": "2b77235e-1d66-43f6-e52d-cfa50f17ae4a"
   },
   "outputs": [
    {
     "data": {
      "text/html": [
       "<div>\n",
       "<style scoped>\n",
       "    .dataframe tbody tr th:only-of-type {\n",
       "        vertical-align: middle;\n",
       "    }\n",
       "\n",
       "    .dataframe tbody tr th {\n",
       "        vertical-align: top;\n",
       "    }\n",
       "\n",
       "    .dataframe thead th {\n",
       "        text-align: right;\n",
       "    }\n",
       "</style>\n",
       "<table border=\"1\" class=\"dataframe\">\n",
       "  <thead>\n",
       "    <tr style=\"text-align: right;\">\n",
       "      <th></th>\n",
       "      <th>High_x</th>\n",
       "      <th>Low_x</th>\n",
       "      <th>Open_x</th>\n",
       "      <th>Close_x</th>\n",
       "      <th>Volume_x</th>\n",
       "      <th>Adj Close_x</th>\n",
       "      <th>High_y</th>\n",
       "      <th>Low_y</th>\n",
       "      <th>Open_y</th>\n",
       "      <th>Close_y</th>\n",
       "      <th>Volume_y</th>\n",
       "      <th>Adj Close_y</th>\n",
       "    </tr>\n",
       "    <tr>\n",
       "      <th>Date</th>\n",
       "      <th></th>\n",
       "      <th></th>\n",
       "      <th></th>\n",
       "      <th></th>\n",
       "      <th></th>\n",
       "      <th></th>\n",
       "      <th></th>\n",
       "      <th></th>\n",
       "      <th></th>\n",
       "      <th></th>\n",
       "      <th></th>\n",
       "      <th></th>\n",
       "    </tr>\n",
       "  </thead>\n",
       "  <tbody>\n",
       "    <tr>\n",
       "      <th>2021-11-19</th>\n",
       "      <td>186.300003</td>\n",
       "      <td>185.259995</td>\n",
       "      <td>185.360001</td>\n",
       "      <td>185.960007</td>\n",
       "      <td>197400.0</td>\n",
       "      <td>185.960007</td>\n",
       "      <td>34.445000</td>\n",
       "      <td>32.290001</td>\n",
       "      <td>34.400002</td>\n",
       "      <td>32.930000</td>\n",
       "      <td>2779770.0</td>\n",
       "      <td>32.930000</td>\n",
       "    </tr>\n",
       "    <tr>\n",
       "      <th>2021-11-22</th>\n",
       "      <td>186.440002</td>\n",
       "      <td>184.559998</td>\n",
       "      <td>186.119995</td>\n",
       "      <td>185.089996</td>\n",
       "      <td>264200.0</td>\n",
       "      <td>185.089996</td>\n",
       "      <td>33.320000</td>\n",
       "      <td>32.625000</td>\n",
       "      <td>32.880001</td>\n",
       "      <td>33.195000</td>\n",
       "      <td>1011201.0</td>\n",
       "      <td>33.195000</td>\n",
       "    </tr>\n",
       "    <tr>\n",
       "      <th>2021-11-23</th>\n",
       "      <td>185.580002</td>\n",
       "      <td>184.179993</td>\n",
       "      <td>185.089996</td>\n",
       "      <td>185.059998</td>\n",
       "      <td>182700.0</td>\n",
       "      <td>185.059998</td>\n",
       "      <td>33.224998</td>\n",
       "      <td>32.349998</td>\n",
       "      <td>32.919998</td>\n",
       "      <td>32.610001</td>\n",
       "      <td>1123403.0</td>\n",
       "      <td>32.610001</td>\n",
       "    </tr>\n",
       "    <tr>\n",
       "      <th>2021-11-24</th>\n",
       "      <td>185.119995</td>\n",
       "      <td>183.509995</td>\n",
       "      <td>184.899994</td>\n",
       "      <td>184.809998</td>\n",
       "      <td>255500.0</td>\n",
       "      <td>184.809998</td>\n",
       "      <td>33.255001</td>\n",
       "      <td>31.910000</td>\n",
       "      <td>32.790001</td>\n",
       "      <td>32.105000</td>\n",
       "      <td>1519096.0</td>\n",
       "      <td>32.105000</td>\n",
       "    </tr>\n",
       "    <tr>\n",
       "      <th>2021-11-26</th>\n",
       "      <td>181.149994</td>\n",
       "      <td>178.789993</td>\n",
       "      <td>180.740005</td>\n",
       "      <td>179.830002</td>\n",
       "      <td>171400.0</td>\n",
       "      <td>179.830002</td>\n",
       "      <td>30.815001</td>\n",
       "      <td>29.500000</td>\n",
       "      <td>30.500000</td>\n",
       "      <td>29.610001</td>\n",
       "      <td>2810856.0</td>\n",
       "      <td>29.610001</td>\n",
       "    </tr>\n",
       "  </tbody>\n",
       "</table>\n",
       "</div>"
      ],
      "text/plain": [
       "                High_x       Low_x  ...   Volume_y  Adj Close_y\n",
       "Date                                ...                        \n",
       "2021-11-19  186.300003  185.259995  ...  2779770.0    32.930000\n",
       "2021-11-22  186.440002  184.559998  ...  1011201.0    33.195000\n",
       "2021-11-23  185.580002  184.179993  ...  1123403.0    32.610001\n",
       "2021-11-24  185.119995  183.509995  ...  1519096.0    32.105000\n",
       "2021-11-26  181.149994  178.789993  ...  2810856.0    29.610001\n",
       "\n",
       "[5 rows x 12 columns]"
      ]
     },
     "execution_count": 24,
     "metadata": {},
     "output_type": "execute_result"
    }
   ],
   "source": [
    "toy_ren_join.tail()"
   ]
  },
  {
   "cell_type": "code",
   "execution_count": 28,
   "metadata": {
    "executionInfo": {
     "elapsed": 369,
     "status": "ok",
     "timestamp": 1638003731400,
     "user": {
      "displayName": "Yacine ASLIMI",
      "photoUrl": "https://lh3.googleusercontent.com/a/default-user=s64",
      "userId": "17203730376393528118"
     },
     "user_tz": -60
    },
    "id": "D2MpUxuY5KJk"
   },
   "outputs": [],
   "source": [
    "#### Récupération du cours de cloture\n",
    "\n",
    "df = pd.concat([toy_ren_join['Close_x'],toy_ren_join['Close_y'], stell['Close'], gm['Close'], ford['Close']], axis =1) #### Concatenation des 5 valeurs de cloture"
   ]
  },
  {
   "cell_type": "code",
   "execution_count": 29,
   "metadata": {
    "executionInfo": {
     "elapsed": 410,
     "status": "ok",
     "timestamp": 1638003760316,
     "user": {
      "displayName": "Yacine ASLIMI",
      "photoUrl": "https://lh3.googleusercontent.com/a/default-user=s64",
      "userId": "17203730376393528118"
     },
     "user_tz": -60
    },
    "id": "F4zv9FWSoXFZ"
   },
   "outputs": [],
   "source": [
    "df.columns = [ \"Toyota\",'Renault',\"Stellelantis\", \"GM\", 'Ford']"
   ]
  },
  {
   "cell_type": "code",
   "execution_count": 30,
   "metadata": {
    "colab": {
     "base_uri": "https://localhost:8080/",
     "height": 455
    },
    "executionInfo": {
     "elapsed": 457,
     "status": "ok",
     "timestamp": 1638003765502,
     "user": {
      "displayName": "Yacine ASLIMI",
      "photoUrl": "https://lh3.googleusercontent.com/a/default-user=s64",
      "userId": "17203730376393528118"
     },
     "user_tz": -60
    },
    "id": "M9GBPo4koeWj",
    "outputId": "d650cbbe-dc19-4163-8119-df7e2dffd4b4"
   },
   "outputs": [
    {
     "data": {
      "text/html": [
       "<div>\n",
       "<style scoped>\n",
       "    .dataframe tbody tr th:only-of-type {\n",
       "        vertical-align: middle;\n",
       "    }\n",
       "\n",
       "    .dataframe tbody tr th {\n",
       "        vertical-align: top;\n",
       "    }\n",
       "\n",
       "    .dataframe thead th {\n",
       "        text-align: right;\n",
       "    }\n",
       "</style>\n",
       "<table border=\"1\" class=\"dataframe\">\n",
       "  <thead>\n",
       "    <tr style=\"text-align: right;\">\n",
       "      <th></th>\n",
       "      <th>Toyota</th>\n",
       "      <th>Renault</th>\n",
       "      <th>Stellelantis</th>\n",
       "      <th>GM</th>\n",
       "      <th>Ford</th>\n",
       "    </tr>\n",
       "    <tr>\n",
       "      <th>Date</th>\n",
       "      <th></th>\n",
       "      <th></th>\n",
       "      <th></th>\n",
       "      <th></th>\n",
       "      <th></th>\n",
       "    </tr>\n",
       "  </thead>\n",
       "  <tbody>\n",
       "    <tr>\n",
       "      <th>2013-04-04</th>\n",
       "      <td>105.629997</td>\n",
       "      <td>50.380001</td>\n",
       "      <td>3.480263</td>\n",
       "      <td>27.740000</td>\n",
       "      <td>12.650000</td>\n",
       "    </tr>\n",
       "    <tr>\n",
       "      <th>2013-04-05</th>\n",
       "      <td>106.500000</td>\n",
       "      <td>49.599998</td>\n",
       "      <td>3.480263</td>\n",
       "      <td>27.520000</td>\n",
       "      <td>12.440000</td>\n",
       "    </tr>\n",
       "    <tr>\n",
       "      <th>2013-04-08</th>\n",
       "      <td>108.709999</td>\n",
       "      <td>48.349998</td>\n",
       "      <td>3.368421</td>\n",
       "      <td>27.590000</td>\n",
       "      <td>12.780000</td>\n",
       "    </tr>\n",
       "    <tr>\n",
       "      <th>2013-04-09</th>\n",
       "      <td>107.519997</td>\n",
       "      <td>48.630001</td>\n",
       "      <td>3.440789</td>\n",
       "      <td>27.530001</td>\n",
       "      <td>12.800000</td>\n",
       "    </tr>\n",
       "    <tr>\n",
       "      <th>2013-04-10</th>\n",
       "      <td>108.779999</td>\n",
       "      <td>49.060001</td>\n",
       "      <td>3.671053</td>\n",
       "      <td>28.370001</td>\n",
       "      <td>13.120000</td>\n",
       "    </tr>\n",
       "    <tr>\n",
       "      <th>...</th>\n",
       "      <td>...</td>\n",
       "      <td>...</td>\n",
       "      <td>...</td>\n",
       "      <td>...</td>\n",
       "      <td>...</td>\n",
       "    </tr>\n",
       "    <tr>\n",
       "      <th>2021-11-19</th>\n",
       "      <td>185.960007</td>\n",
       "      <td>32.930000</td>\n",
       "      <td>19.650000</td>\n",
       "      <td>61.799999</td>\n",
       "      <td>19.389999</td>\n",
       "    </tr>\n",
       "    <tr>\n",
       "      <th>2021-11-22</th>\n",
       "      <td>185.089996</td>\n",
       "      <td>33.195000</td>\n",
       "      <td>19.469999</td>\n",
       "      <td>64.059998</td>\n",
       "      <td>20.480000</td>\n",
       "    </tr>\n",
       "    <tr>\n",
       "      <th>2021-11-23</th>\n",
       "      <td>185.059998</td>\n",
       "      <td>32.610001</td>\n",
       "      <td>19.240000</td>\n",
       "      <td>63.049999</td>\n",
       "      <td>20.200001</td>\n",
       "    </tr>\n",
       "    <tr>\n",
       "      <th>2021-11-24</th>\n",
       "      <td>184.809998</td>\n",
       "      <td>32.105000</td>\n",
       "      <td>18.780001</td>\n",
       "      <td>62.189999</td>\n",
       "      <td>20.250000</td>\n",
       "    </tr>\n",
       "    <tr>\n",
       "      <th>2021-11-26</th>\n",
       "      <td>179.830002</td>\n",
       "      <td>29.610001</td>\n",
       "      <td>17.750000</td>\n",
       "      <td>60.169998</td>\n",
       "      <td>19.750000</td>\n",
       "    </tr>\n",
       "  </tbody>\n",
       "</table>\n",
       "<p>2180 rows × 5 columns</p>\n",
       "</div>"
      ],
      "text/plain": [
       "                Toyota    Renault  Stellelantis         GM       Ford\n",
       "Date                                                                 \n",
       "2013-04-04  105.629997  50.380001      3.480263  27.740000  12.650000\n",
       "2013-04-05  106.500000  49.599998      3.480263  27.520000  12.440000\n",
       "2013-04-08  108.709999  48.349998      3.368421  27.590000  12.780000\n",
       "2013-04-09  107.519997  48.630001      3.440789  27.530001  12.800000\n",
       "2013-04-10  108.779999  49.060001      3.671053  28.370001  13.120000\n",
       "...                ...        ...           ...        ...        ...\n",
       "2021-11-19  185.960007  32.930000     19.650000  61.799999  19.389999\n",
       "2021-11-22  185.089996  33.195000     19.469999  64.059998  20.480000\n",
       "2021-11-23  185.059998  32.610001     19.240000  63.049999  20.200001\n",
       "2021-11-24  184.809998  32.105000     18.780001  62.189999  20.250000\n",
       "2021-11-26  179.830002  29.610001     17.750000  60.169998  19.750000\n",
       "\n",
       "[2180 rows x 5 columns]"
      ]
     },
     "execution_count": 30,
     "metadata": {},
     "output_type": "execute_result"
    }
   ],
   "source": [
    "df"
   ]
  },
  {
   "cell_type": "code",
   "execution_count": 31,
   "metadata": {
    "executionInfo": {
     "elapsed": 358,
     "status": "ok",
     "timestamp": 1638003783015,
     "user": {
      "displayName": "Yacine ASLIMI",
      "photoUrl": "https://lh3.googleusercontent.com/a/default-user=s64",
      "userId": "17203730376393528118"
     },
     "user_tz": -60
    },
    "id": "cX14hJuwn6rz"
   },
   "outputs": [],
   "source": [
    "#pd.DataFrame(pd.concat([toy_ren_join['Close_x'],toy_ren_join['Close_y'], stell['Close'], gm['Close'], ford['Close']], axis =1) , columns = [ \"Toyota\",'Renault',\"Stellelantis\", \"GM\", 'Ford'])"
   ]
  },
  {
   "cell_type": "code",
   "execution_count": 32,
   "metadata": {
    "executionInfo": {
     "elapsed": 349,
     "status": "ok",
     "timestamp": 1638003790692,
     "user": {
      "displayName": "Yacine ASLIMI",
      "photoUrl": "https://lh3.googleusercontent.com/a/default-user=s64",
      "userId": "17203730376393528118"
     },
     "user_tz": -60
    },
    "id": "sQS79meR6hXb"
   },
   "outputs": [],
   "source": [
    "##df = pd.concat([toyota['Close'], renault['Close'], gm['Close'], ford['Close']], axis =1)\n",
    "#df"
   ]
  },
  {
   "cell_type": "code",
   "execution_count": 33,
   "metadata": {
    "executionInfo": {
     "elapsed": 358,
     "status": "ok",
     "timestamp": 1638003793556,
     "user": {
      "displayName": "Yacine ASLIMI",
      "photoUrl": "https://lh3.googleusercontent.com/a/default-user=s64",
      "userId": "17203730376393528118"
     },
     "user_tz": -60
    },
    "id": "w6Bm8Txj6hnp"
   },
   "outputs": [],
   "source": [
    "#df.columns.rename = [\"toyota\", \"renault\", \"gm\", \"ford\"]"
   ]
  },
  {
   "cell_type": "code",
   "execution_count": null,
   "metadata": {
    "colab": {
     "base_uri": "https://localhost:8080/",
     "height": 166
    },
    "executionInfo": {
     "elapsed": 293,
     "status": "error",
     "timestamp": 1637673323768,
     "user": {
      "displayName": "Yacine ASLIMI",
      "photoUrl": "https://lh3.googleusercontent.com/a/default-user=s64",
      "userId": "17203730376393528118"
     },
     "user_tz": -60
    },
    "id": "ajAZ3CzN7NhW",
    "outputId": "2003c778-d410-4751-e1fc-ee5c62fb93c2"
   },
   "outputs": [
    {
     "ename": "TypeError",
     "evalue": "ignored",
     "output_type": "error",
     "traceback": [
      "\u001b[0;31m---------------------------------------------------------------------------\u001b[0m",
      "\u001b[0;31mTypeError\u001b[0m                                 Traceback (most recent call last)",
      "\u001b[0;32m<ipython-input-50-c7fd13d36793>\u001b[0m in \u001b[0;36m<module>\u001b[0;34m()\u001b[0m\n\u001b[0;32m----> 1\u001b[0;31m \u001b[0mdf\u001b[0m\u001b[0;34m.\u001b[0m\u001b[0mrename\u001b[0m\u001b[0;34m(\u001b[0m\u001b[0mcolumns\u001b[0m\u001b[0;34m=\u001b[0m\u001b[0;34m{\u001b[0m\u001b[0;34m'Close'\u001b[0m\u001b[0;34m:\u001b[0m \u001b[0;34m'toyota'\u001b[0m\u001b[0;34m,\u001b[0m \u001b[0;34m'Close'\u001b[0m\u001b[0;34m:\u001b[0m \u001b[0;34m'renault'\u001b[0m\u001b[0;34m,\u001b[0m \u001b[0;34m'Close'\u001b[0m\u001b[0;34m:\u001b[0m \u001b[0;34m'gm'\u001b[0m\u001b[0;34m,\u001b[0m \u001b[0;34m'Close'\u001b[0m\u001b[0;34m:\u001b[0m \u001b[0;34m'ford'\u001b[0m\u001b[0;34m}\u001b[0m\u001b[0;34m,\u001b[0m\u001b[0maxis\u001b[0m\u001b[0;34m=\u001b[0m\u001b[0;36m1\u001b[0m\u001b[0;34m,\u001b[0m\u001b[0minplace\u001b[0m\u001b[0;34m=\u001b[0m\u001b[0;32mTrue\u001b[0m\u001b[0;34m)\u001b[0m\u001b[0;34m\u001b[0m\u001b[0;34m\u001b[0m\u001b[0m\n\u001b[0m",
      "\u001b[0;31mTypeError\u001b[0m: 'list' object is not callable"
     ]
    }
   ],
   "source": [
    "#df.rename(columns={'Close': 'toyota', 'Close': 'renault', 'Close': 'gm', 'Close': 'ford'},axis=1,inplace=True)"
   ]
  },
  {
   "cell_type": "code",
   "execution_count": null,
   "metadata": {
    "id": "ZnQHpdwV6w7j"
   },
   "outputs": [],
   "source": [
    " #df.rename = [\"toyota\", \"renault\", \"gm\", \"ford\"]"
   ]
  },
  {
   "cell_type": "code",
   "execution_count": null,
   "metadata": {
    "id": "gbGBncir6xFw"
   },
   "outputs": [],
   "source": [
    "#df.iloc[:,0].name = \"toyota\""
   ]
  },
  {
   "cell_type": "code",
   "execution_count": 35,
   "metadata": {
    "colab": {
     "base_uri": "https://localhost:8080/",
     "height": 455
    },
    "executionInfo": {
     "elapsed": 367,
     "status": "ok",
     "timestamp": 1638003816358,
     "user": {
      "displayName": "Yacine ASLIMI",
      "photoUrl": "https://lh3.googleusercontent.com/a/default-user=s64",
      "userId": "17203730376393528118"
     },
     "user_tz": -60
    },
    "id": "eBwN0aha7tRe",
    "outputId": "340423a5-37c5-4d42-95e7-ccbe9755da87"
   },
   "outputs": [
    {
     "data": {
      "text/html": [
       "<div>\n",
       "<style scoped>\n",
       "    .dataframe tbody tr th:only-of-type {\n",
       "        vertical-align: middle;\n",
       "    }\n",
       "\n",
       "    .dataframe tbody tr th {\n",
       "        vertical-align: top;\n",
       "    }\n",
       "\n",
       "    .dataframe thead th {\n",
       "        text-align: right;\n",
       "    }\n",
       "</style>\n",
       "<table border=\"1\" class=\"dataframe\">\n",
       "  <thead>\n",
       "    <tr style=\"text-align: right;\">\n",
       "      <th></th>\n",
       "      <th>Toyota</th>\n",
       "      <th>Renault</th>\n",
       "      <th>Stellelantis</th>\n",
       "      <th>GM</th>\n",
       "      <th>Ford</th>\n",
       "    </tr>\n",
       "    <tr>\n",
       "      <th>Date</th>\n",
       "      <th></th>\n",
       "      <th></th>\n",
       "      <th></th>\n",
       "      <th></th>\n",
       "      <th></th>\n",
       "    </tr>\n",
       "  </thead>\n",
       "  <tbody>\n",
       "    <tr>\n",
       "      <th>2013-04-04</th>\n",
       "      <td>105.629997</td>\n",
       "      <td>50.380001</td>\n",
       "      <td>3.480263</td>\n",
       "      <td>27.740000</td>\n",
       "      <td>12.650000</td>\n",
       "    </tr>\n",
       "    <tr>\n",
       "      <th>2013-04-05</th>\n",
       "      <td>106.500000</td>\n",
       "      <td>49.599998</td>\n",
       "      <td>3.480263</td>\n",
       "      <td>27.520000</td>\n",
       "      <td>12.440000</td>\n",
       "    </tr>\n",
       "    <tr>\n",
       "      <th>2013-04-08</th>\n",
       "      <td>108.709999</td>\n",
       "      <td>48.349998</td>\n",
       "      <td>3.368421</td>\n",
       "      <td>27.590000</td>\n",
       "      <td>12.780000</td>\n",
       "    </tr>\n",
       "    <tr>\n",
       "      <th>2013-04-09</th>\n",
       "      <td>107.519997</td>\n",
       "      <td>48.630001</td>\n",
       "      <td>3.440789</td>\n",
       "      <td>27.530001</td>\n",
       "      <td>12.800000</td>\n",
       "    </tr>\n",
       "    <tr>\n",
       "      <th>2013-04-10</th>\n",
       "      <td>108.779999</td>\n",
       "      <td>49.060001</td>\n",
       "      <td>3.671053</td>\n",
       "      <td>28.370001</td>\n",
       "      <td>13.120000</td>\n",
       "    </tr>\n",
       "    <tr>\n",
       "      <th>...</th>\n",
       "      <td>...</td>\n",
       "      <td>...</td>\n",
       "      <td>...</td>\n",
       "      <td>...</td>\n",
       "      <td>...</td>\n",
       "    </tr>\n",
       "    <tr>\n",
       "      <th>2021-11-19</th>\n",
       "      <td>185.960007</td>\n",
       "      <td>32.930000</td>\n",
       "      <td>19.650000</td>\n",
       "      <td>61.799999</td>\n",
       "      <td>19.389999</td>\n",
       "    </tr>\n",
       "    <tr>\n",
       "      <th>2021-11-22</th>\n",
       "      <td>185.089996</td>\n",
       "      <td>33.195000</td>\n",
       "      <td>19.469999</td>\n",
       "      <td>64.059998</td>\n",
       "      <td>20.480000</td>\n",
       "    </tr>\n",
       "    <tr>\n",
       "      <th>2021-11-23</th>\n",
       "      <td>185.059998</td>\n",
       "      <td>32.610001</td>\n",
       "      <td>19.240000</td>\n",
       "      <td>63.049999</td>\n",
       "      <td>20.200001</td>\n",
       "    </tr>\n",
       "    <tr>\n",
       "      <th>2021-11-24</th>\n",
       "      <td>184.809998</td>\n",
       "      <td>32.105000</td>\n",
       "      <td>18.780001</td>\n",
       "      <td>62.189999</td>\n",
       "      <td>20.250000</td>\n",
       "    </tr>\n",
       "    <tr>\n",
       "      <th>2021-11-26</th>\n",
       "      <td>179.830002</td>\n",
       "      <td>29.610001</td>\n",
       "      <td>17.750000</td>\n",
       "      <td>60.169998</td>\n",
       "      <td>19.750000</td>\n",
       "    </tr>\n",
       "  </tbody>\n",
       "</table>\n",
       "<p>2180 rows × 5 columns</p>\n",
       "</div>"
      ],
      "text/plain": [
       "                Toyota    Renault  Stellelantis         GM       Ford\n",
       "Date                                                                 \n",
       "2013-04-04  105.629997  50.380001      3.480263  27.740000  12.650000\n",
       "2013-04-05  106.500000  49.599998      3.480263  27.520000  12.440000\n",
       "2013-04-08  108.709999  48.349998      3.368421  27.590000  12.780000\n",
       "2013-04-09  107.519997  48.630001      3.440789  27.530001  12.800000\n",
       "2013-04-10  108.779999  49.060001      3.671053  28.370001  13.120000\n",
       "...                ...        ...           ...        ...        ...\n",
       "2021-11-19  185.960007  32.930000     19.650000  61.799999  19.389999\n",
       "2021-11-22  185.089996  33.195000     19.469999  64.059998  20.480000\n",
       "2021-11-23  185.059998  32.610001     19.240000  63.049999  20.200001\n",
       "2021-11-24  184.809998  32.105000     18.780001  62.189999  20.250000\n",
       "2021-11-26  179.830002  29.610001     17.750000  60.169998  19.750000\n",
       "\n",
       "[2180 rows x 5 columns]"
      ]
     },
     "execution_count": 35,
     "metadata": {},
     "output_type": "execute_result"
    }
   ],
   "source": [
    "df"
   ]
  },
  {
   "cell_type": "code",
   "execution_count": 36,
   "metadata": {
    "colab": {
     "base_uri": "https://localhost:8080/",
     "height": 287
    },
    "executionInfo": {
     "elapsed": 1103,
     "status": "ok",
     "timestamp": 1638003847448,
     "user": {
      "displayName": "Yacine ASLIMI",
      "photoUrl": "https://lh3.googleusercontent.com/a/default-user=s64",
      "userId": "17203730376393528118"
     },
     "user_tz": -60
    },
    "id": "f5JKUpmb8Amt",
    "outputId": "62393089-118b-484d-cffc-fa7f5d8b66c1"
   },
   "outputs": [
    {
     "data": {
      "text/plain": [
       "<matplotlib.axes._subplots.AxesSubplot at 0x7f0bdb257e50>"
      ]
     },
     "execution_count": 36,
     "metadata": {},
     "output_type": "execute_result"
    },
    {
     "data": {
      "image/png": "[encoded data removed]",
      "text/plain": [
       "<Figure size 432x288 with 1 Axes>"
      ]
     },
     "metadata": {
      "needs_background": "light"
     },
     "output_type": "display_data"
    }
   ],
   "source": [
    "df.plot()"
   ]
  },
  {
   "cell_type": "code",
   "execution_count": 37,
   "metadata": {
    "colab": {
     "base_uri": "https://localhost:8080/",
     "height": 455
    },
    "executionInfo": {
     "elapsed": 393,
     "status": "ok",
     "timestamp": 1638003927618,
     "user": {
      "displayName": "Yacine ASLIMI",
      "photoUrl": "https://lh3.googleusercontent.com/a/default-user=s64",
      "userId": "17203730376393528118"
     },
     "user_tz": -60
    },
    "id": "B2R0dmpnpFxD",
    "outputId": "aed71acf-2fe6-4294-df3e-59f9e8373ebc"
   },
   "outputs": [
    {
     "data": {
      "text/html": [
       "<div>\n",
       "<style scoped>\n",
       "    .dataframe tbody tr th:only-of-type {\n",
       "        vertical-align: middle;\n",
       "    }\n",
       "\n",
       "    .dataframe tbody tr th {\n",
       "        vertical-align: top;\n",
       "    }\n",
       "\n",
       "    .dataframe thead th {\n",
       "        text-align: right;\n",
       "    }\n",
       "</style>\n",
       "<table border=\"1\" class=\"dataframe\">\n",
       "  <thead>\n",
       "    <tr style=\"text-align: right;\">\n",
       "      <th></th>\n",
       "      <th>Toyota</th>\n",
       "      <th>Renault</th>\n",
       "      <th>Stellelantis</th>\n",
       "      <th>GM</th>\n",
       "      <th>Ford</th>\n",
       "    </tr>\n",
       "    <tr>\n",
       "      <th>Date</th>\n",
       "      <th></th>\n",
       "      <th></th>\n",
       "      <th></th>\n",
       "      <th></th>\n",
       "      <th></th>\n",
       "    </tr>\n",
       "  </thead>\n",
       "  <tbody>\n",
       "    <tr>\n",
       "      <th>2013-04-04</th>\n",
       "      <td>105.629997</td>\n",
       "      <td>50.380001</td>\n",
       "      <td>3.480263</td>\n",
       "      <td>27.740000</td>\n",
       "      <td>12.650000</td>\n",
       "    </tr>\n",
       "    <tr>\n",
       "      <th>2013-04-05</th>\n",
       "      <td>106.500000</td>\n",
       "      <td>49.599998</td>\n",
       "      <td>3.480263</td>\n",
       "      <td>27.520000</td>\n",
       "      <td>12.440000</td>\n",
       "    </tr>\n",
       "    <tr>\n",
       "      <th>2013-04-08</th>\n",
       "      <td>108.709999</td>\n",
       "      <td>48.349998</td>\n",
       "      <td>3.368421</td>\n",
       "      <td>27.590000</td>\n",
       "      <td>12.780000</td>\n",
       "    </tr>\n",
       "    <tr>\n",
       "      <th>2013-04-09</th>\n",
       "      <td>107.519997</td>\n",
       "      <td>48.630001</td>\n",
       "      <td>3.440789</td>\n",
       "      <td>27.530001</td>\n",
       "      <td>12.800000</td>\n",
       "    </tr>\n",
       "    <tr>\n",
       "      <th>2013-04-10</th>\n",
       "      <td>108.779999</td>\n",
       "      <td>49.060001</td>\n",
       "      <td>3.671053</td>\n",
       "      <td>28.370001</td>\n",
       "      <td>13.120000</td>\n",
       "    </tr>\n",
       "    <tr>\n",
       "      <th>...</th>\n",
       "      <td>...</td>\n",
       "      <td>...</td>\n",
       "      <td>...</td>\n",
       "      <td>...</td>\n",
       "      <td>...</td>\n",
       "    </tr>\n",
       "    <tr>\n",
       "      <th>2021-11-19</th>\n",
       "      <td>185.960007</td>\n",
       "      <td>32.930000</td>\n",
       "      <td>19.650000</td>\n",
       "      <td>61.799999</td>\n",
       "      <td>19.389999</td>\n",
       "    </tr>\n",
       "    <tr>\n",
       "      <th>2021-11-22</th>\n",
       "      <td>185.089996</td>\n",
       "      <td>33.195000</td>\n",
       "      <td>19.469999</td>\n",
       "      <td>64.059998</td>\n",
       "      <td>20.480000</td>\n",
       "    </tr>\n",
       "    <tr>\n",
       "      <th>2021-11-23</th>\n",
       "      <td>185.059998</td>\n",
       "      <td>32.610001</td>\n",
       "      <td>19.240000</td>\n",
       "      <td>63.049999</td>\n",
       "      <td>20.200001</td>\n",
       "    </tr>\n",
       "    <tr>\n",
       "      <th>2021-11-24</th>\n",
       "      <td>184.809998</td>\n",
       "      <td>32.105000</td>\n",
       "      <td>18.780001</td>\n",
       "      <td>62.189999</td>\n",
       "      <td>20.250000</td>\n",
       "    </tr>\n",
       "    <tr>\n",
       "      <th>2021-11-26</th>\n",
       "      <td>179.830002</td>\n",
       "      <td>29.610001</td>\n",
       "      <td>17.750000</td>\n",
       "      <td>60.169998</td>\n",
       "      <td>19.750000</td>\n",
       "    </tr>\n",
       "  </tbody>\n",
       "</table>\n",
       "<p>2180 rows × 5 columns</p>\n",
       "</div>"
      ],
      "text/plain": [
       "                Toyota    Renault  Stellelantis         GM       Ford\n",
       "Date                                                                 \n",
       "2013-04-04  105.629997  50.380001      3.480263  27.740000  12.650000\n",
       "2013-04-05  106.500000  49.599998      3.480263  27.520000  12.440000\n",
       "2013-04-08  108.709999  48.349998      3.368421  27.590000  12.780000\n",
       "2013-04-09  107.519997  48.630001      3.440789  27.530001  12.800000\n",
       "2013-04-10  108.779999  49.060001      3.671053  28.370001  13.120000\n",
       "...                ...        ...           ...        ...        ...\n",
       "2021-11-19  185.960007  32.930000     19.650000  61.799999  19.389999\n",
       "2021-11-22  185.089996  33.195000     19.469999  64.059998  20.480000\n",
       "2021-11-23  185.059998  32.610001     19.240000  63.049999  20.200001\n",
       "2021-11-24  184.809998  32.105000     18.780001  62.189999  20.250000\n",
       "2021-11-26  179.830002  29.610001     17.750000  60.169998  19.750000\n",
       "\n",
       "[2180 rows x 5 columns]"
      ]
     },
     "execution_count": 37,
     "metadata": {},
     "output_type": "execute_result"
    }
   ],
   "source": [
    "df"
   ]
  },
  {
   "cell_type": "code",
   "execution_count": 49,
   "metadata": {
    "executionInfo": {
     "elapsed": 369,
     "status": "ok",
     "timestamp": 1638004380607,
     "user": {
      "displayName": "Yacine ASLIMI",
      "photoUrl": "https://lh3.googleusercontent.com/a/default-user=s64",
      "userId": "17203730376393528118"
     },
     "user_tz": -60
    },
    "id": "aVG8Wp5-pJ1_"
   },
   "outputs": [],
   "source": [
    "first_val = df.tail().loc[\"2021-11-26\",[\"Toyota\"]].values #### Date du dernier cours de Toyota"
   ]
  },
  {
   "cell_type": "code",
   "execution_count": 53,
   "metadata": {
    "colab": {
     "base_uri": "https://localhost:8080/"
    },
    "executionInfo": {
     "elapsed": 652,
     "status": "ok",
     "timestamp": 1638004401760,
     "user": {
      "displayName": "Yacine ASLIMI",
      "photoUrl": "https://lh3.googleusercontent.com/a/default-user=s64",
      "userId": "17203730376393528118"
     },
     "user_tz": -60
    },
    "id": "jSJ--1MoqMoM",
    "outputId": "fbd45f67-434c-4fba-eec8-b4fe0997b53a"
   },
   "outputs": [
    {
     "data": {
      "text/plain": [
       "Toyota    179.830002\n",
       "Name: 2021-11-26 00:00:00, dtype: float64"
      ]
     },
     "execution_count": 53,
     "metadata": {},
     "output_type": "execute_result"
    }
   ],
   "source": [
    "#df.tail().loc[\"2021-11-26\",[\"Toyota\"]]\n"
   ]
  },
  {
   "cell_type": "code",
   "execution_count": 54,
   "metadata": {
    "colab": {
     "base_uri": "https://localhost:8080/"
    },
    "executionInfo": {
     "elapsed": 441,
     "status": "ok",
     "timestamp": 1638004433535,
     "user": {
      "displayName": "Yacine ASLIMI",
      "photoUrl": "https://lh3.googleusercontent.com/a/default-user=s64",
      "userId": "17203730376393528118"
     },
     "user_tz": -60
    },
    "id": "3t3v4yyspqVh",
    "outputId": "4760c738-7235-41b7-e265-ddce6af6b247"
   },
   "outputs": [
    {
     "data": {
      "text/plain": [
       "array([[105.62999725]])"
      ]
     },
     "execution_count": 54,
     "metadata": {},
     "output_type": "execute_result"
    }
   ],
   "source": [
    "final_value = df.head(1)[[\"Toyota\"]].values #### Date du premier cours\n",
    "final_value"
   ]
  },
  {
   "cell_type": "code",
   "execution_count": 57,
   "metadata": {
    "colab": {
     "base_uri": "https://localhost:8080/"
    },
    "executionInfo": {
     "elapsed": 376,
     "status": "ok",
     "timestamp": 1638004503637,
     "user": {
      "displayName": "Yacine ASLIMI",
      "photoUrl": "https://lh3.googleusercontent.com/a/default-user=s64",
      "userId": "17203730376393528118"
     },
     "user_tz": -60
    },
    "id": "2iIJ53sDp9S8",
    "outputId": "d73b8c8b-fe3f-4358-bd23-c99a631e616f"
   },
   "outputs": [
    {
     "data": {
      "text/plain": [
       "array([[0.70245202]])"
      ]
     },
     "execution_count": 57,
     "metadata": {},
     "output_type": "execute_result"
    }
   ],
   "source": [
    "##### Rendement d'un action\n",
    "\n",
    "(first_val - final_value)/final_value"
   ]
  },
  {
   "cell_type": "markdown",
   "metadata": {
    "id": "moxMTpnzreOJ"
   },
   "source": [
    "Rendement de plus de 70% ici pour **Toyota**"
   ]
  },
  {
   "cell_type": "code",
   "execution_count": null,
   "metadata": {
    "id": "JvJyaw3hrnXk"
   },
   "outputs": [],
   "source": [
    "#### Rendement pour Renaut"
   ]
  },
  {
   "cell_type": "code",
   "execution_count": 58,
   "metadata": {
    "colab": {
     "base_uri": "https://localhost:8080/"
    },
    "executionInfo": {
     "elapsed": 372,
     "status": "ok",
     "timestamp": 1638004640172,
     "user": {
      "displayName": "Yacine ASLIMI",
      "photoUrl": "https://lh3.googleusercontent.com/a/default-user=s64",
      "userId": "17203730376393528118"
     },
     "user_tz": -60
    },
    "id": "Hyk_PdjGrs9I",
    "outputId": "c93b5b6c-1e56-4dd8-828f-dafa6e9c9e91"
   },
   "outputs": [
    {
     "data": {
      "text/plain": [
       "array([[-0.41226677]])"
      ]
     },
     "execution_count": 58,
     "metadata": {},
     "output_type": "execute_result"
    }
   ],
   "source": [
    "first_val = df.tail().loc[\"2021-11-26\",[\"Renault\"]].values #### Date du dernier cours de Toyota\n",
    "final_value = df.head(1)[[\"Renault\"]].values\n",
    "\n",
    "##### Rendement d'un action\n",
    "\n",
    "(first_val - final_value)/final_value"
   ]
  },
  {
   "cell_type": "code",
   "execution_count": 59,
   "metadata": {
    "colab": {
     "base_uri": "https://localhost:8080/"
    },
    "executionInfo": {
     "elapsed": 363,
     "status": "ok",
     "timestamp": 1638004655469,
     "user": {
      "displayName": "Yacine ASLIMI",
      "photoUrl": "https://lh3.googleusercontent.com/a/default-user=s64",
      "userId": "17203730376393528118"
     },
     "user_tz": -60
    },
    "id": "uwVz6A1Zr13n",
    "outputId": "3f6015a6-75c7-4ce8-bb52-f017a88a7aa3"
   },
   "outputs": [
    {
     "data": {
      "text/plain": [
       "array([29.61000061])"
      ]
     },
     "execution_count": 59,
     "metadata": {},
     "output_type": "execute_result"
    }
   ],
   "source": [
    "first_val"
   ]
  },
  {
   "cell_type": "code",
   "execution_count": 60,
   "metadata": {
    "colab": {
     "base_uri": "https://localhost:8080/"
    },
    "executionInfo": {
     "elapsed": 369,
     "status": "ok",
     "timestamp": 1638004662381,
     "user": {
      "displayName": "Yacine ASLIMI",
      "photoUrl": "https://lh3.googleusercontent.com/a/default-user=s64",
      "userId": "17203730376393528118"
     },
     "user_tz": -60
    },
    "id": "z5WvEt1Vr4wZ",
    "outputId": "82ff0bd4-db81-44ce-9aad-d0c770db26ee"
   },
   "outputs": [
    {
     "data": {
      "text/plain": [
       "array([[50.38000107]])"
      ]
     },
     "execution_count": 60,
     "metadata": {},
     "output_type": "execute_result"
    }
   ],
   "source": [
    "final_value"
   ]
  },
  {
   "cell_type": "code",
   "execution_count": 62,
   "metadata": {
    "colab": {
     "base_uri": "https://localhost:8080/",
     "height": 287
    },
    "executionInfo": {
     "elapsed": 483,
     "status": "ok",
     "timestamp": 1638004713785,
     "user": {
      "displayName": "Yacine ASLIMI",
      "photoUrl": "https://lh3.googleusercontent.com/a/default-user=s64",
      "userId": "17203730376393528118"
     },
     "user_tz": -60
    },
    "id": "_ljZbNuXr-4X",
    "outputId": "66b82692-1d12-43a4-ab11-b06dc866c997"
   },
   "outputs": [
    {
     "data": {
      "text/plain": [
       "<matplotlib.axes._subplots.AxesSubplot at 0x7f0bdb1a4a90>"
      ]
     },
     "execution_count": 62,
     "metadata": {},
     "output_type": "execute_result"
    },
    {
     "data": {
      "image/png": "[encoded data removed]",
      "text/plain": [
       "<Figure size 432x288 with 1 Axes>"
      ]
     },
     "metadata": {
      "needs_background": "light"
     },
     "output_type": "display_data"
    }
   ],
   "source": [
    "df.Renault.plot()"
   ]
  },
  {
   "cell_type": "markdown",
   "metadata": {
    "id": "irq2Pr5vsmPQ"
   },
   "source": [
    "Rendement négatif de **- 41%**  => A éviter"
   ]
  },
  {
   "cell_type": "code",
   "execution_count": 64,
   "metadata": {
    "colab": {
     "base_uri": "https://localhost:8080/"
    },
    "executionInfo": {
     "elapsed": 347,
     "status": "ok",
     "timestamp": 1638004757369,
     "user": {
      "displayName": "Yacine ASLIMI",
      "photoUrl": "https://lh3.googleusercontent.com/a/default-user=s64",
      "userId": "17203730376393528118"
     },
     "user_tz": -60
    },
    "id": "bYyuvhZFsMe_",
    "outputId": "a16ccb21-c2a4-465e-a905-70c358d0fac9"
   },
   "outputs": [
    {
     "data": {
      "text/plain": [
       "Date\n",
       "2021-11-26    29.610001\n",
       "Name: Renault, dtype: float64"
      ]
     },
     "execution_count": 64,
     "metadata": {},
     "output_type": "execute_result"
    }
   ],
   "source": [
    "df.Renault.tail(1)"
   ]
  },
  {
   "cell_type": "code",
   "execution_count": null,
   "metadata": {
    "colab": {
     "base_uri": "https://localhost:8080/"
    },
    "executionInfo": {
     "elapsed": 244,
     "status": "ok",
     "timestamp": 1637673745361,
     "user": {
      "displayName": "Yacine ASLIMI",
      "photoUrl": "https://lh3.googleusercontent.com/a/default-user=s64",
      "userId": "17203730376393528118"
     },
     "user_tz": -60
    },
    "id": "KnBuapVi9hfv",
    "outputId": "2eed8e31-7131-45ae-8975-3dfc979ce3d8"
   },
   "outputs": [
    {
     "data": {
      "text/plain": [
       "105.62999725341797"
      ]
     },
     "execution_count": 65,
     "metadata": {},
     "output_type": "execute_result"
    }
   ],
   "source": [
    "df.iloc[0, 0] "
   ]
  },
  {
   "cell_type": "code",
   "execution_count": null,
   "metadata": {
    "colab": {
     "base_uri": "https://localhost:8080/"
    },
    "executionInfo": {
     "elapsed": 266,
     "status": "ok",
     "timestamp": 1637673648659,
     "user": {
      "displayName": "Yacine ASLIMI",
      "photoUrl": "https://lh3.googleusercontent.com/a/default-user=s64",
      "userId": "17203730376393528118"
     },
     "user_tz": -60
    },
    "id": "qYFkzpNs8xxH",
    "outputId": "3ddb95ae-a65d-43de-cb34-e74234a110e6"
   },
   "outputs": [
    {
     "data": {
      "text/plain": [
       "79.45999908447266"
      ]
     },
     "execution_count": 62,
     "metadata": {},
     "output_type": "execute_result"
    }
   ],
   "source": [
    "df.tail(2).iloc[0, 0]  -df.iloc[0, 0] "
   ]
  },
  {
   "cell_type": "code",
   "execution_count": null,
   "metadata": {
    "colab": {
     "base_uri": "https://localhost:8080/"
    },
    "executionInfo": {
     "elapsed": 274,
     "status": "ok",
     "timestamp": 1637673866306,
     "user": {
      "displayName": "Yacine ASLIMI",
      "photoUrl": "https://lh3.googleusercontent.com/a/default-user=s64",
      "userId": "17203730376393528118"
     },
     "user_tz": -60
    },
    "id": "W6p6HEUV9L7Q",
    "outputId": "05010ea9-ac9b-4108-b9e9-9fac9bb6357d"
   },
   "outputs": [
    {
     "data": {
      "text/plain": [
       "75.2248425168841"
      ]
     },
     "execution_count": 71,
     "metadata": {},
     "output_type": "execute_result"
    }
   ],
   "source": [
    "( df.tail(2).iloc[0, 0] - df.iloc[0, 0] )/ df.iloc[0, 0]*100"
   ]
  },
  {
   "cell_type": "code",
   "execution_count": null,
   "metadata": {
    "colab": {
     "base_uri": "https://localhost:8080/"
    },
    "executionInfo": {
     "elapsed": 292,
     "status": "ok",
     "timestamp": 1637673872268,
     "user": {
      "displayName": "Yacine ASLIMI",
      "photoUrl": "https://lh3.googleusercontent.com/a/default-user=s64",
      "userId": "17203730376393528118"
     },
     "user_tz": -60
    },
    "id": "Lod_VURj9Tlj",
    "outputId": "868dbb83-37fe-4d11-b5ab-b06597020342"
   },
   "outputs": [
    {
     "data": {
      "text/plain": [
       "183.75"
      ]
     },
     "execution_count": 72,
     "metadata": {},
     "output_type": "execute_result"
    }
   ],
   "source": [
    "105*1.75"
   ]
  },
  {
   "cell_type": "code",
   "execution_count": null,
   "metadata": {
    "id": "mcDRHfHt97M9"
   },
   "outputs": [],
   "source": [
    "#### Augmentation de 75% de la valeur de l'action entre les deux dates"
   ]
  }
 ],
 "metadata": {
  "colab": {
   "authorship_tag": "ABX9TyN3zzL9X12L+I5w56bkVnpF",
   "collapsed_sections": [],
   "name": "WebdataReader_Exemple.ipynb",
   "provenance": []
  },
  "kernelspec": {
   "display_name": "Python 3",
   "name": "python3"
  },
  "language_info": {
   "name": "python"
  }
 },
 "nbformat": 4,
 "nbformat_minor": 0
}
